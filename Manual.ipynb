{
 "cells": [
  {
   "cell_type": "markdown",
   "id": "93acf2f5-b609-454f-9f2c-6bcb30177087",
   "metadata": {},
   "source": [
    "# Setup"
   ]
  },
  {
   "cell_type": "code",
   "execution_count": 1,
   "id": "d8747b3f-8905-4336-9c4a-54744a8f40ba",
   "metadata": {},
   "outputs": [
    {
     "name": "stdout",
     "output_type": "stream",
     "text": [
      "Setup was successful.\n"
     ]
    },
    {
     "name": "stderr",
     "output_type": "stream",
     "text": [
      "kj/filesystem-disk-unix.c++:1734: warning: PWD environment variable doesn't match current directory; pwd = /\n"
     ]
    }
   ],
   "source": [
    "from optibook.synchronous_client import Exchange\n",
    "\n",
    "import time\n",
    "import logging\n",
    "logger = logging.getLogger('client')\n",
    "logger.setLevel('ERROR')\n",
    "\n",
    "print(\"Setup was successful.\")"
   ]
  },
  {
   "cell_type": "markdown",
   "id": "9ddb57ce-ac0e-4c06-b163-762452401011",
   "metadata": {},
   "source": [
    "# Connecting to the Exchange"
   ]
  },
  {
   "cell_type": "code",
   "execution_count": 2,
   "id": "13dc8598-1e49-487c-ad39-3784eb7f7fa7",
   "metadata": {},
   "outputs": [
    {
     "name": "stderr",
     "output_type": "stream",
     "text": [
      "2024-03-02 15:12:04,448 [asyncio   ] [MainThread  ] Using selector: EpollSelector\n"
     ]
    }
   ],
   "source": [
    "exchange = Exchange()\n",
    "_ = exchange.connect()"
   ]
  },
  {
   "cell_type": "markdown",
   "id": "a403468f-0c55-48b1-834f-b806b34d3453",
   "metadata": {},
   "source": [
    "# Getting market information"
   ]
  },
  {
   "cell_type": "code",
   "execution_count": 3,
   "id": "a5bcb60e-8db1-458d-a7c9-cf17cc24bf3b",
   "metadata": {},
   "outputs": [
    {
     "data": {
      "text/plain": [
       "{'CSCO': Instrument(instrument_id=CSCO, tick_size=0.1, price_change_limit=PriceChangeLimit(absolute_change=1.0000, relative_change=10.00%), instrument_type=InstrumentType.STOCK, instrument_group=CSCO, paused=False, expired=False),\n",
       " 'PFE': Instrument(instrument_id=PFE, tick_size=0.1, price_change_limit=PriceChangeLimit(absolute_change=1.0000, relative_change=10.00%), instrument_type=InstrumentType.STOCK, instrument_group=PFE, paused=False, expired=False),\n",
       " 'SAN': Instrument(instrument_id=SAN, tick_size=0.1, price_change_limit=PriceChangeLimit(absolute_change=1.0000, relative_change=10.00%), instrument_type=InstrumentType.STOCK, instrument_group=SAN, paused=False, expired=False),\n",
       " 'ING': Instrument(instrument_id=ING, tick_size=0.1, price_change_limit=PriceChangeLimit(absolute_change=1.0000, relative_change=10.00%), instrument_type=InstrumentType.STOCK, instrument_group=ING, paused=False, expired=False),\n",
       " 'NVDA': Instrument(instrument_id=NVDA, tick_size=0.1, price_change_limit=PriceChangeLimit(absolute_change=1.0000, relative_change=10.00%), instrument_type=InstrumentType.STOCK, instrument_group=NVDA, paused=False, expired=False)}"
      ]
     },
     "execution_count": 3,
     "metadata": {},
     "output_type": "execute_result"
    }
   ],
   "source": [
    "# Load all instruments (products) available on the exchange\n",
    "instruments = exchange.get_instruments()\n",
    "instruments"
   ]
  },
  {
   "cell_type": "code",
   "execution_count": 4,
   "id": "f1367f99-f94c-4554-9a26-6d79f13c10a6",
   "metadata": {},
   "outputs": [],
   "source": [
    "# Define a variable storing the instrument_id of the product we are interested in\n",
    "instrument_id = 'DEMO'"
   ]
  },
  {
   "cell_type": "markdown",
   "id": "b7285ae2-e965-47b5-bbc1-1faed44fdba5",
   "metadata": {},
   "source": [
    "### Order Book"
   ]
  },
  {
   "cell_type": "code",
   "execution_count": 5,
   "id": "ceec3a13-2e1f-4413-8b3b-3bbeb023e85a",
   "metadata": {},
   "outputs": [],
   "source": [
    "# Load current limit order book for the instrument\n",
    "exchange.get_last_price_book(instrument_id)"
   ]
  },
  {
   "cell_type": "markdown",
   "id": "9274cb67-b70b-43d3-9071-06f8de8a4c16",
   "metadata": {},
   "source": [
    "### Public tradeticks"
   ]
  },
  {
   "cell_type": "code",
   "execution_count": 6,
   "id": "5eef657b-3e85-4bd4-aafc-06dad3a3ae5b",
   "metadata": {},
   "outputs": [
    {
     "data": {
      "text/plain": [
       "[]"
      ]
     },
     "execution_count": 6,
     "metadata": {},
     "output_type": "execute_result"
    }
   ],
   "source": [
    "# Load and store a list of all public tradeticks since the instantiation of the Exchange (upto a max limit)\n",
    "# These are trades between any participant, you may or may not have participated in these\n",
    "trade_tick_history = exchange.get_trade_tick_history(instrument_id)\n",
    "\n",
    "# Display last 5\n",
    "trade_tick_history[-5:]"
   ]
  },
  {
   "cell_type": "code",
   "execution_count": 7,
   "id": "99f5730b-b23c-4adf-a88f-c1394ab03aa0",
   "metadata": {},
   "outputs": [
    {
     "data": {
      "text/plain": [
       "[]"
      ]
     },
     "execution_count": 7,
     "metadata": {},
     "output_type": "execute_result"
    }
   ],
   "source": [
    "# Poll all public tradeticks since the last time this method was called\n",
    "exchange.poll_new_trade_ticks(instrument_id)"
   ]
  },
  {
   "cell_type": "markdown",
   "id": "5419b543-5cc1-4bb0-9df2-af7684ccd0b1",
   "metadata": {},
   "source": [
    "### Private trades"
   ]
  },
  {
   "cell_type": "code",
   "execution_count": 8,
   "id": "5dd35c7d-c2b0-48d7-93a8-0efeebb8b093",
   "metadata": {},
   "outputs": [
    {
     "data": {
      "text/plain": [
       "[]"
      ]
     },
     "execution_count": 8,
     "metadata": {},
     "output_type": "execute_result"
    }
   ],
   "source": [
    "# Load and store a list of all private trades you participated in since the instantiation of the Exchange (upto a max limit)\n",
    "trade_history = exchange.get_trade_history(instrument_id)\n",
    "\n",
    "# Display last 5\n",
    "trade_history[-5:]"
   ]
  },
  {
   "cell_type": "code",
   "execution_count": 9,
   "id": "905cbd32-379b-4a01-aa63-7550b61fde58",
   "metadata": {},
   "outputs": [
    {
     "data": {
      "text/plain": [
       "[]"
      ]
     },
     "execution_count": 9,
     "metadata": {},
     "output_type": "execute_result"
    }
   ],
   "source": [
    "# Poll all private trades since the last time this method was called\n",
    "exchange.poll_new_trades(instrument_id)"
   ]
  },
  {
   "cell_type": "markdown",
   "id": "6ee74134-f310-41e8-9de0-aabe458c91f1",
   "metadata": {},
   "source": [
    "### Position & PnL"
   ]
  },
  {
   "cell_type": "code",
   "execution_count": 10,
   "id": "5785926a-331b-4e43-ad16-6489430fdc43",
   "metadata": {},
   "outputs": [
    {
     "data": {
      "text/plain": [
       "{'NVDA': -10, 'ING': 0, 'SAN': 0, 'PFE': 10, 'CSCO': 10}"
      ]
     },
     "execution_count": 10,
     "metadata": {},
     "output_type": "execute_result"
    }
   ],
   "source": [
    "# Load current positions in all instruments\n",
    "exchange.get_positions()"
   ]
  },
  {
   "cell_type": "code",
   "execution_count": 11,
   "id": "1016a928-4f7b-4c00-bb5b-4f5ed830ccc7",
   "metadata": {},
   "outputs": [
    {
     "data": {
      "text/plain": [
       "{'NVDA': {'volume': -10, 'cash': 528.9999999999998},\n",
       " 'ING': {'volume': 0, 'cash': 91.99999999999903},\n",
       " 'SAN': {'volume': 0, 'cash': 94.00000000000068},\n",
       " 'PFE': {'volume': 10, 'cash': -672.9999999999992},\n",
       " 'CSCO': {'volume': 10, 'cash': -343.0000000000005}}"
      ]
     },
     "execution_count": 11,
     "metadata": {},
     "output_type": "execute_result"
    }
   ],
   "source": [
    "# Load current positions in all instruments, including cash component (how much did we invest or gain by trading each instrument)\n",
    "exchange.get_positions_and_cash()"
   ]
  },
  {
   "cell_type": "code",
   "execution_count": 12,
   "id": "1b9f95bf-d847-47de-bff7-3bb68188409b",
   "metadata": {},
   "outputs": [
    {
     "data": {
      "text/plain": [
       "503.9999999999998"
      ]
     },
     "execution_count": 12,
     "metadata": {},
     "output_type": "execute_result"
    }
   ],
   "source": [
    "# Current PnL: sum of all cash components and value of the positions (evaluated against last-traded price) \n",
    "exchange.get_pnl()"
   ]
  },
  {
   "cell_type": "markdown",
   "id": "3a322fbd-e1e3-4e8a-b5a2-8387b7062c44",
   "metadata": {},
   "source": [
    "# Orders"
   ]
  },
  {
   "cell_type": "markdown",
   "id": "ec396b72-70c6-4cf1-8412-4368f6aa9a4c",
   "metadata": {},
   "source": [
    "### Inserting"
   ]
  },
  {
   "cell_type": "code",
   "execution_count": 13,
   "id": "ac9dcb15-b55b-4500-a516-2a4e918397e7",
   "metadata": {},
   "outputs": [
    {
     "name": "stderr",
     "output_type": "stream",
     "text": [
      "2024-03-02 15:12:20,277 [client    ] [Thread-4 (_thread_entry_point)] Forcing a disconnect due to an error: /home/ubuntu/optibook/libs/server/server.h:224: failed: expected it != mInsts.end(); Instrument does not exist\n",
      "stack: 55a4cfbda4b3 55a4cfc12a7a 55a4cfc2fc4b 55a4cfc2fd0a 55a4cfc48909 55a4cfc50436 55a4cfcc83e1 55a4cfd23dda 55a4cfcc6ce6 55a4cfccbeb2 55a4cfcc7c84 55a4cfcce9d2 55a4cfbcdc45 55a4cfbcc849 7f4ce8868082 55a4cfbccefd.\n"
     ]
    },
    {
     "ename": "KjException",
     "evalue": "(remote):0: failed: remote exception: expected it != mInsts.end(); Instrument does not exist\nstack: 7f905f48d640 7f905f47fc70 7f905f322f90 7f905f324750",
     "output_type": "error",
     "traceback": [
      "\u001b[0;31m---------------------------------------------------------------------------\u001b[0m",
      "\u001b[0;31mKjException\u001b[0m                               Traceback (most recent call last)",
      "Cell \u001b[0;32mIn[13], line 3\u001b[0m\n\u001b[1;32m      1\u001b[0m \u001b[38;5;66;03m# Insert bid LIMIT order - this trades against any current orders, and any remainders become new resting orders in the book\u001b[39;00m\n\u001b[1;32m      2\u001b[0m \u001b[38;5;66;03m# The returned value is a 'InsertOrderResponse' which, if successfull, contains the order_id of the order\u001b[39;00m\n\u001b[0;32m----> 3\u001b[0m \u001b[43mexchange\u001b[49m\u001b[38;5;241;43m.\u001b[39;49m\u001b[43minsert_order\u001b[49m\u001b[43m(\u001b[49m\u001b[43minstrument_id\u001b[49m\u001b[43m,\u001b[49m\u001b[43m \u001b[49m\u001b[43mprice\u001b[49m\u001b[38;5;241;43m=\u001b[39;49m\u001b[38;5;241;43m10\u001b[39;49m\u001b[43m,\u001b[49m\u001b[43m \u001b[49m\u001b[43mvolume\u001b[49m\u001b[38;5;241;43m=\u001b[39;49m\u001b[38;5;241;43m5\u001b[39;49m\u001b[43m,\u001b[49m\u001b[43m \u001b[49m\u001b[43mside\u001b[49m\u001b[38;5;241;43m=\u001b[39;49m\u001b[38;5;124;43m'\u001b[39;49m\u001b[38;5;124;43mbid\u001b[39;49m\u001b[38;5;124;43m'\u001b[39;49m\u001b[43m,\u001b[49m\u001b[43m \u001b[49m\u001b[43morder_type\u001b[49m\u001b[38;5;241;43m=\u001b[39;49m\u001b[38;5;124;43m'\u001b[39;49m\u001b[38;5;124;43mlimit\u001b[39;49m\u001b[38;5;124;43m'\u001b[39;49m\u001b[43m)\u001b[49m\n",
      "File \u001b[0;32m~/venv/lib/python3.10/site-packages/optibook/synchronous_client.py:120\u001b[0m, in \u001b[0;36mExchange.insert_order\u001b[0;34m(self, instrument_id, price, volume, side, order_type)\u001b[0m\n\u001b[1;32m    117\u001b[0m \u001b[38;5;28;01massert\u001b[39;00m(side \u001b[38;5;129;01min\u001b[39;00m exchange_client\u001b[38;5;241m.\u001b[39mALL_SIDES), \u001b[38;5;124mf\u001b[39m\u001b[38;5;124m\"\u001b[39m\u001b[38;5;124mInvalid value (\u001b[39m\u001b[38;5;132;01m{\u001b[39;00mside\u001b[38;5;132;01m}\u001b[39;00m\u001b[38;5;124m) for parameter \u001b[39m\u001b[38;5;124m'\u001b[39m\u001b[38;5;124mside\u001b[39m\u001b[38;5;124m'\u001b[39m\u001b[38;5;124m. Use synchronous_client.BID or synchronous_client.ASK\u001b[39m\u001b[38;5;124m\"\u001b[39m\n\u001b[1;32m    118\u001b[0m \u001b[38;5;28;01massert\u001b[39;00m order_type \u001b[38;5;129;01min\u001b[39;00m exchange_client\u001b[38;5;241m.\u001b[39mALL_ORDER_TYPES, \u001b[38;5;124mf\u001b[39m\u001b[38;5;124m\"\u001b[39m\u001b[38;5;124morder_type must be one of \u001b[39m\u001b[38;5;132;01m{\u001b[39;00mexchange_client\u001b[38;5;241m.\u001b[39mALL_ORDER_TYPES\u001b[38;5;132;01m}\u001b[39;00m\u001b[38;5;124m\"\u001b[39m\n\u001b[0;32m--> 120\u001b[0m \u001b[38;5;28;01mreturn\u001b[39;00m \u001b[38;5;28;43mself\u001b[39;49m\u001b[38;5;241;43m.\u001b[39;49m\u001b[43m_wrapper\u001b[49m\u001b[38;5;241;43m.\u001b[39;49m\u001b[43mrun_on_loop\u001b[49m\u001b[43m(\u001b[49m\n\u001b[1;32m    121\u001b[0m \u001b[43m    \u001b[49m\u001b[38;5;28;43mself\u001b[39;49m\u001b[38;5;241;43m.\u001b[39;49m\u001b[43m_e\u001b[49m\u001b[38;5;241;43m.\u001b[39;49m\u001b[43minsert_order\u001b[49m\u001b[43m(\u001b[49m\u001b[43minstrument_id\u001b[49m\u001b[38;5;241;43m=\u001b[39;49m\u001b[43minstrument_id\u001b[49m\u001b[43m,\u001b[49m\u001b[43m \u001b[49m\u001b[43mprice\u001b[49m\u001b[38;5;241;43m=\u001b[39;49m\u001b[43mprice\u001b[49m\u001b[43m,\u001b[49m\u001b[43m \u001b[49m\u001b[43mvolume\u001b[49m\u001b[38;5;241;43m=\u001b[39;49m\u001b[43mvolume\u001b[49m\u001b[43m,\u001b[49m\u001b[43m \u001b[49m\u001b[43mside\u001b[49m\u001b[38;5;241;43m=\u001b[39;49m\u001b[43mside\u001b[49m\u001b[43m,\u001b[49m\u001b[43m \u001b[49m\u001b[43morder_type\u001b[49m\u001b[38;5;241;43m=\u001b[39;49m\u001b[43morder_type\u001b[49m\u001b[43m)\u001b[49m\n\u001b[1;32m    122\u001b[0m \u001b[43m\u001b[49m\u001b[43m)\u001b[49m\n",
      "File \u001b[0;32m~/venv/lib/python3.10/site-packages/optibook/synchronous_wrapper.py:85\u001b[0m, in \u001b[0;36mSynchronousWrapper.run_on_loop\u001b[0;34m(self, awaitable)\u001b[0m\n\u001b[1;32m     82\u001b[0m \u001b[38;5;28;01mif\u001b[39;00m fut\u001b[38;5;241m.\u001b[39mexception():\n\u001b[1;32m     83\u001b[0m     \u001b[38;5;28mself\u001b[39m\u001b[38;5;241m.\u001b[39mdisconnect()\n\u001b[0;32m---> 85\u001b[0m ret \u001b[38;5;241m=\u001b[39m \u001b[43mfut\u001b[49m\u001b[38;5;241;43m.\u001b[39;49m\u001b[43mresult\u001b[49m\u001b[43m(\u001b[49m\u001b[43m)\u001b[49m\n\u001b[1;32m     86\u001b[0m end_time \u001b[38;5;241m=\u001b[39m datetime\u001b[38;5;241m.\u001b[39mdatetime\u001b[38;5;241m.\u001b[39mnow()\n\u001b[1;32m     87\u001b[0m diff \u001b[38;5;241m=\u001b[39m end_time \u001b[38;5;241m-\u001b[39m start_time\n",
      "File \u001b[0;32m/usr/lib/python3.10/concurrent/futures/_base.py:451\u001b[0m, in \u001b[0;36mFuture.result\u001b[0;34m(self, timeout)\u001b[0m\n\u001b[1;32m    449\u001b[0m     \u001b[38;5;28;01mraise\u001b[39;00m CancelledError()\n\u001b[1;32m    450\u001b[0m \u001b[38;5;28;01melif\u001b[39;00m \u001b[38;5;28mself\u001b[39m\u001b[38;5;241m.\u001b[39m_state \u001b[38;5;241m==\u001b[39m FINISHED:\n\u001b[0;32m--> 451\u001b[0m     \u001b[38;5;28;01mreturn\u001b[39;00m \u001b[38;5;28;43mself\u001b[39;49m\u001b[38;5;241;43m.\u001b[39;49m\u001b[43m__get_result\u001b[49m\u001b[43m(\u001b[49m\u001b[43m)\u001b[49m\n\u001b[1;32m    453\u001b[0m \u001b[38;5;28mself\u001b[39m\u001b[38;5;241m.\u001b[39m_condition\u001b[38;5;241m.\u001b[39mwait(timeout)\n\u001b[1;32m    455\u001b[0m \u001b[38;5;28;01mif\u001b[39;00m \u001b[38;5;28mself\u001b[39m\u001b[38;5;241m.\u001b[39m_state \u001b[38;5;129;01min\u001b[39;00m [CANCELLED, CANCELLED_AND_NOTIFIED]:\n",
      "File \u001b[0;32m/usr/lib/python3.10/concurrent/futures/_base.py:403\u001b[0m, in \u001b[0;36mFuture.__get_result\u001b[0;34m(self)\u001b[0m\n\u001b[1;32m    401\u001b[0m \u001b[38;5;28;01mif\u001b[39;00m \u001b[38;5;28mself\u001b[39m\u001b[38;5;241m.\u001b[39m_exception:\n\u001b[1;32m    402\u001b[0m     \u001b[38;5;28;01mtry\u001b[39;00m:\n\u001b[0;32m--> 403\u001b[0m         \u001b[38;5;28;01mraise\u001b[39;00m \u001b[38;5;28mself\u001b[39m\u001b[38;5;241m.\u001b[39m_exception\n\u001b[1;32m    404\u001b[0m     \u001b[38;5;28;01mfinally\u001b[39;00m:\n\u001b[1;32m    405\u001b[0m         \u001b[38;5;66;03m# Break a reference cycle with the exception in self._exception\u001b[39;00m\n\u001b[1;32m    406\u001b[0m         \u001b[38;5;28mself\u001b[39m \u001b[38;5;241m=\u001b[39m \u001b[38;5;28;01mNone\u001b[39;00m\n",
      "File \u001b[0;32m~/venv/lib/python3.10/site-packages/optibook/exchange_client.py:367\u001b[0m, in \u001b[0;36mExecClient.insert_order\u001b[0;34m(self, instrument_id, price, volume, side, order_type)\u001b[0m\n\u001b[1;32m    365\u001b[0m \u001b[38;5;28;01massert\u001b[39;00m side \u001b[38;5;129;01min\u001b[39;00m ALL_SIDES, \u001b[38;5;124mf\u001b[39m\u001b[38;5;124m\"\u001b[39m\u001b[38;5;124mside must be one of \u001b[39m\u001b[38;5;132;01m{\u001b[39;00mALL_SIDES\u001b[38;5;132;01m}\u001b[39;00m\u001b[38;5;124m\"\u001b[39m\n\u001b[1;32m    366\u001b[0m \u001b[38;5;28;01massert\u001b[39;00m order_type \u001b[38;5;129;01min\u001b[39;00m ALL_ORDER_TYPES, \u001b[38;5;124mf\u001b[39m\u001b[38;5;124m\"\u001b[39m\u001b[38;5;124morder_type must be one of \u001b[39m\u001b[38;5;132;01m{\u001b[39;00mALL_ORDER_TYPES\u001b[38;5;132;01m}\u001b[39;00m\u001b[38;5;124m\"\u001b[39m\n\u001b[0;32m--> 367\u001b[0m result \u001b[38;5;241m=\u001b[39m \u001b[38;5;28;01mawait\u001b[39;00m \u001b[38;5;28mself\u001b[39m\u001b[38;5;241m.\u001b[39m_exec\u001b[38;5;241m.\u001b[39minsertOrder(instrument_id, price, volume, side, order_type)\n\u001b[1;32m    368\u001b[0m \u001b[38;5;28;01mif\u001b[39;00m \u001b[38;5;129;01mnot\u001b[39;00m result\u001b[38;5;241m.\u001b[39msuccess:\n\u001b[1;32m    369\u001b[0m     logger\u001b[38;5;241m.\u001b[39mwarning(\u001b[38;5;124mf\u001b[39m\u001b[38;5;124m'\u001b[39m\u001b[38;5;124morder insert failed with reason: \u001b[39m\u001b[38;5;132;01m{\u001b[39;00mresult\u001b[38;5;241m.\u001b[39merrorReason\u001b[38;5;132;01m}\u001b[39;00m\u001b[38;5;124m'\u001b[39m)\n",
      "\u001b[0;31mKjException\u001b[0m: (remote):0: failed: remote exception: expected it != mInsts.end(); Instrument does not exist\nstack: 7f905f48d640 7f905f47fc70 7f905f322f90 7f905f324750"
     ]
    }
   ],
   "source": [
    "# Insert bid LIMIT order - this trades against any current orders, and any remainders become new resting orders in the book\n",
    "# The returned value is a 'InsertOrderResponse' which, if successfull, contains the order_id of the order\n",
    "exchange.insert_order(instrument_id, price=10, volume=5, side='bid', order_type='limit')"
   ]
  },
  {
   "cell_type": "code",
   "execution_count": 14,
   "id": "cdf2c01e-4de7-4b5d-bad7-f72c3f67dc93",
   "metadata": {},
   "outputs": [
    {
     "ename": "AssertionError",
     "evalue": "Cannot call function until connected. Call connect() first",
     "output_type": "error",
     "traceback": [
      "\u001b[0;31m---------------------------------------------------------------------------\u001b[0m",
      "\u001b[0;31mAssertionError\u001b[0m                            Traceback (most recent call last)",
      "\u001b[1;32m/home/ubuntu/Manual.ipynb 单元格 23\u001b[0m line \u001b[0;36m2\n\u001b[1;32m      <a href='vscode-notebook-cell://hacktheburgh24-team-012.optibook.net/home/ubuntu/Manual.ipynb#X31sdnNjb2RlLXJlbW90ZQ%3D%3D?line=0'>1</a>\u001b[0m \u001b[39m# Insert ask LIMIT order - this trades against any current orders, and any remainders become new resting orders in the book\u001b[39;00m\n\u001b[0;32m----> <a href='vscode-notebook-cell://hacktheburgh24-team-012.optibook.net/home/ubuntu/Manual.ipynb#X31sdnNjb2RlLXJlbW90ZQ%3D%3D?line=1'>2</a>\u001b[0m exchange\u001b[39m.\u001b[39;49minsert_order(instrument_id, price\u001b[39m=\u001b[39;49m\u001b[39m20\u001b[39;49m, volume\u001b[39m=\u001b[39;49m\u001b[39m5\u001b[39;49m, side\u001b[39m=\u001b[39;49m\u001b[39m'\u001b[39;49m\u001b[39mask\u001b[39;49m\u001b[39m'\u001b[39;49m, order_type\u001b[39m=\u001b[39;49m\u001b[39m'\u001b[39;49m\u001b[39mlimit\u001b[39;49m\u001b[39m'\u001b[39;49m)\n",
      "File \u001b[0;32m~/venv/lib/python3.10/site-packages/optibook/synchronous_client.py:116\u001b[0m, in \u001b[0;36mExchange.insert_order\u001b[0;34m(self, instrument_id, price, volume, side, order_type)\u001b[0m\n\u001b[1;32m     86\u001b[0m \u001b[39mdef\u001b[39;00m \u001b[39minsert_order\u001b[39m(\u001b[39mself\u001b[39m,\n\u001b[1;32m     87\u001b[0m                  instrument_id: \u001b[39mstr\u001b[39m,\n\u001b[1;32m     88\u001b[0m                  \u001b[39m*\u001b[39m,\n\u001b[0;32m   (...)\u001b[0m\n\u001b[1;32m     91\u001b[0m                  side: \u001b[39mstr\u001b[39m,\n\u001b[1;32m     92\u001b[0m                  order_type: \u001b[39mstr\u001b[39m \u001b[39m=\u001b[39m exchange_client\u001b[39m.\u001b[39mORDER_TYPE_LIMIT) \u001b[39m-\u001b[39m\u001b[39m>\u001b[39m InsertOrderResponse:\n\u001b[1;32m     93\u001b[0m \u001b[39m    \u001b[39m\u001b[39m\"\"\"\u001b[39;00m\n\u001b[1;32m     94\u001b[0m \u001b[39m    Insert a limit or IOC order on an instrument.\u001b[39;00m\n\u001b[1;32m     95\u001b[0m \n\u001b[0;32m   (...)\u001b[0m\n\u001b[1;32m    114\u001b[0m \u001b[39m        reason should the request have failed. See the doc of that type for more info.\u001b[39;00m\n\u001b[1;32m    115\u001b[0m \u001b[39m    \"\"\"\u001b[39;00m\n\u001b[0;32m--> 116\u001b[0m     \u001b[39massert\u001b[39;00m \u001b[39mself\u001b[39m\u001b[39m.\u001b[39mis_connected(), \u001b[39m\"\u001b[39m\u001b[39mCannot call function until connected. Call connect() first\u001b[39m\u001b[39m\"\u001b[39m\n\u001b[1;32m    117\u001b[0m     \u001b[39massert\u001b[39;00m(side \u001b[39min\u001b[39;00m exchange_client\u001b[39m.\u001b[39mALL_SIDES), \u001b[39mf\u001b[39m\u001b[39m\"\u001b[39m\u001b[39mInvalid value (\u001b[39m\u001b[39m{\u001b[39;00mside\u001b[39m}\u001b[39;00m\u001b[39m) for parameter \u001b[39m\u001b[39m'\u001b[39m\u001b[39mside\u001b[39m\u001b[39m'\u001b[39m\u001b[39m. Use synchronous_client.BID or synchronous_client.ASK\u001b[39m\u001b[39m\"\u001b[39m\n\u001b[1;32m    118\u001b[0m     \u001b[39massert\u001b[39;00m order_type \u001b[39min\u001b[39;00m exchange_client\u001b[39m.\u001b[39mALL_ORDER_TYPES, \u001b[39mf\u001b[39m\u001b[39m\"\u001b[39m\u001b[39morder_type must be one of \u001b[39m\u001b[39m{\u001b[39;00mexchange_client\u001b[39m.\u001b[39mALL_ORDER_TYPES\u001b[39m}\u001b[39;00m\u001b[39m\"\u001b[39m\n",
      "\u001b[0;31mAssertionError\u001b[0m: Cannot call function until connected. Call connect() first"
     ]
    }
   ],
   "source": [
    "# Insert ask LIMIT order - this trades against any current orders, and any remainders become new resting orders in the book\n",
    "exchange.insert_order(instrument_id, price=20, volume=5, side='ask', order_type='limit')"
   ]
  },
  {
   "cell_type": "code",
   "execution_count": 15,
   "id": "a85e2846-51b2-426f-b5da-f189502a1a44",
   "metadata": {},
   "outputs": [
    {
     "ename": "AssertionError",
     "evalue": "Cannot call function until connected. Call connect() first",
     "output_type": "error",
     "traceback": [
      "\u001b[0;31m---------------------------------------------------------------------------\u001b[0m",
      "\u001b[0;31mAssertionError\u001b[0m                            Traceback (most recent call last)",
      "\u001b[1;32m/home/ubuntu/Manual.ipynb 单元格 24\u001b[0m line \u001b[0;36m3\n\u001b[1;32m      <a href='vscode-notebook-cell://hacktheburgh24-team-012.optibook.net/home/ubuntu/Manual.ipynb#X32sdnNjb2RlLXJlbW90ZQ%3D%3D?line=0'>1</a>\u001b[0m \u001b[39m# Insert bid IOC order - this order trades against any resting volume which has an equal or better price, but does not remain in the \u001b[39;00m\n\u001b[1;32m      <a href='vscode-notebook-cell://hacktheburgh24-team-012.optibook.net/home/ubuntu/Manual.ipynb#X32sdnNjb2RlLXJlbW90ZQ%3D%3D?line=1'>2</a>\u001b[0m \u001b[39m# book if any volume is unfilled\u001b[39;00m\n\u001b[0;32m----> <a href='vscode-notebook-cell://hacktheburgh24-team-012.optibook.net/home/ubuntu/Manual.ipynb#X32sdnNjb2RlLXJlbW90ZQ%3D%3D?line=2'>3</a>\u001b[0m exchange\u001b[39m.\u001b[39;49minsert_order(instrument_id, price\u001b[39m=\u001b[39;49m\u001b[39m10\u001b[39;49m, volume\u001b[39m=\u001b[39;49m\u001b[39m5\u001b[39;49m, side\u001b[39m=\u001b[39;49m\u001b[39m'\u001b[39;49m\u001b[39mbid\u001b[39;49m\u001b[39m'\u001b[39;49m, order_type\u001b[39m=\u001b[39;49m\u001b[39m'\u001b[39;49m\u001b[39mioc\u001b[39;49m\u001b[39m'\u001b[39;49m)\n",
      "File \u001b[0;32m~/venv/lib/python3.10/site-packages/optibook/synchronous_client.py:116\u001b[0m, in \u001b[0;36mExchange.insert_order\u001b[0;34m(self, instrument_id, price, volume, side, order_type)\u001b[0m\n\u001b[1;32m     86\u001b[0m \u001b[39mdef\u001b[39;00m \u001b[39minsert_order\u001b[39m(\u001b[39mself\u001b[39m,\n\u001b[1;32m     87\u001b[0m                  instrument_id: \u001b[39mstr\u001b[39m,\n\u001b[1;32m     88\u001b[0m                  \u001b[39m*\u001b[39m,\n\u001b[0;32m   (...)\u001b[0m\n\u001b[1;32m     91\u001b[0m                  side: \u001b[39mstr\u001b[39m,\n\u001b[1;32m     92\u001b[0m                  order_type: \u001b[39mstr\u001b[39m \u001b[39m=\u001b[39m exchange_client\u001b[39m.\u001b[39mORDER_TYPE_LIMIT) \u001b[39m-\u001b[39m\u001b[39m>\u001b[39m InsertOrderResponse:\n\u001b[1;32m     93\u001b[0m \u001b[39m    \u001b[39m\u001b[39m\"\"\"\u001b[39;00m\n\u001b[1;32m     94\u001b[0m \u001b[39m    Insert a limit or IOC order on an instrument.\u001b[39;00m\n\u001b[1;32m     95\u001b[0m \n\u001b[0;32m   (...)\u001b[0m\n\u001b[1;32m    114\u001b[0m \u001b[39m        reason should the request have failed. See the doc of that type for more info.\u001b[39;00m\n\u001b[1;32m    115\u001b[0m \u001b[39m    \"\"\"\u001b[39;00m\n\u001b[0;32m--> 116\u001b[0m     \u001b[39massert\u001b[39;00m \u001b[39mself\u001b[39m\u001b[39m.\u001b[39mis_connected(), \u001b[39m\"\u001b[39m\u001b[39mCannot call function until connected. Call connect() first\u001b[39m\u001b[39m\"\u001b[39m\n\u001b[1;32m    117\u001b[0m     \u001b[39massert\u001b[39;00m(side \u001b[39min\u001b[39;00m exchange_client\u001b[39m.\u001b[39mALL_SIDES), \u001b[39mf\u001b[39m\u001b[39m\"\u001b[39m\u001b[39mInvalid value (\u001b[39m\u001b[39m{\u001b[39;00mside\u001b[39m}\u001b[39;00m\u001b[39m) for parameter \u001b[39m\u001b[39m'\u001b[39m\u001b[39mside\u001b[39m\u001b[39m'\u001b[39m\u001b[39m. Use synchronous_client.BID or synchronous_client.ASK\u001b[39m\u001b[39m\"\u001b[39m\n\u001b[1;32m    118\u001b[0m     \u001b[39massert\u001b[39;00m order_type \u001b[39min\u001b[39;00m exchange_client\u001b[39m.\u001b[39mALL_ORDER_TYPES, \u001b[39mf\u001b[39m\u001b[39m\"\u001b[39m\u001b[39morder_type must be one of \u001b[39m\u001b[39m{\u001b[39;00mexchange_client\u001b[39m.\u001b[39mALL_ORDER_TYPES\u001b[39m}\u001b[39;00m\u001b[39m\"\u001b[39m\n",
      "\u001b[0;31mAssertionError\u001b[0m: Cannot call function until connected. Call connect() first"
     ]
    }
   ],
   "source": [
    "# Insert bid IOC order - this order trades against any resting volume which has an equal or better price, but does not remain in the \n",
    "# book if any volume is unfilled\n",
    "exchange.insert_order(instrument_id, price=10, volume=5, side='bid', order_type='ioc')"
   ]
  },
  {
   "cell_type": "code",
   "execution_count": 16,
   "id": "4ce39bcc-5a61-4c86-9a89-ef2f29d0e4cf",
   "metadata": {},
   "outputs": [
    {
     "ename": "AssertionError",
     "evalue": "Cannot call function until connected. Call connect() first",
     "output_type": "error",
     "traceback": [
      "\u001b[0;31m---------------------------------------------------------------------------\u001b[0m",
      "\u001b[0;31mAssertionError\u001b[0m                            Traceback (most recent call last)",
      "\u001b[1;32m/home/ubuntu/Manual.ipynb 单元格 25\u001b[0m line \u001b[0;36m3\n\u001b[1;32m      <a href='vscode-notebook-cell://hacktheburgh24-team-012.optibook.net/home/ubuntu/Manual.ipynb#X33sdnNjb2RlLXJlbW90ZQ%3D%3D?line=0'>1</a>\u001b[0m \u001b[39m# Insert ask IOC order - this order trades against any resting volume which has an equal or better price, but does not remain in the \u001b[39;00m\n\u001b[1;32m      <a href='vscode-notebook-cell://hacktheburgh24-team-012.optibook.net/home/ubuntu/Manual.ipynb#X33sdnNjb2RlLXJlbW90ZQ%3D%3D?line=1'>2</a>\u001b[0m \u001b[39m# book if any volume is unfilled\u001b[39;00m\n\u001b[0;32m----> <a href='vscode-notebook-cell://hacktheburgh24-team-012.optibook.net/home/ubuntu/Manual.ipynb#X33sdnNjb2RlLXJlbW90ZQ%3D%3D?line=2'>3</a>\u001b[0m exchange\u001b[39m.\u001b[39;49minsert_order(instrument_id, price\u001b[39m=\u001b[39;49m\u001b[39m20\u001b[39;49m, volume\u001b[39m=\u001b[39;49m\u001b[39m5\u001b[39;49m, side\u001b[39m=\u001b[39;49m\u001b[39m'\u001b[39;49m\u001b[39mask\u001b[39;49m\u001b[39m'\u001b[39;49m, order_type\u001b[39m=\u001b[39;49m\u001b[39m'\u001b[39;49m\u001b[39mioc\u001b[39;49m\u001b[39m'\u001b[39;49m)\n",
      "File \u001b[0;32m~/venv/lib/python3.10/site-packages/optibook/synchronous_client.py:116\u001b[0m, in \u001b[0;36mExchange.insert_order\u001b[0;34m(self, instrument_id, price, volume, side, order_type)\u001b[0m\n\u001b[1;32m     86\u001b[0m \u001b[39mdef\u001b[39;00m \u001b[39minsert_order\u001b[39m(\u001b[39mself\u001b[39m,\n\u001b[1;32m     87\u001b[0m                  instrument_id: \u001b[39mstr\u001b[39m,\n\u001b[1;32m     88\u001b[0m                  \u001b[39m*\u001b[39m,\n\u001b[0;32m   (...)\u001b[0m\n\u001b[1;32m     91\u001b[0m                  side: \u001b[39mstr\u001b[39m,\n\u001b[1;32m     92\u001b[0m                  order_type: \u001b[39mstr\u001b[39m \u001b[39m=\u001b[39m exchange_client\u001b[39m.\u001b[39mORDER_TYPE_LIMIT) \u001b[39m-\u001b[39m\u001b[39m>\u001b[39m InsertOrderResponse:\n\u001b[1;32m     93\u001b[0m \u001b[39m    \u001b[39m\u001b[39m\"\"\"\u001b[39;00m\n\u001b[1;32m     94\u001b[0m \u001b[39m    Insert a limit or IOC order on an instrument.\u001b[39;00m\n\u001b[1;32m     95\u001b[0m \n\u001b[0;32m   (...)\u001b[0m\n\u001b[1;32m    114\u001b[0m \u001b[39m        reason should the request have failed. See the doc of that type for more info.\u001b[39;00m\n\u001b[1;32m    115\u001b[0m \u001b[39m    \"\"\"\u001b[39;00m\n\u001b[0;32m--> 116\u001b[0m     \u001b[39massert\u001b[39;00m \u001b[39mself\u001b[39m\u001b[39m.\u001b[39mis_connected(), \u001b[39m\"\u001b[39m\u001b[39mCannot call function until connected. Call connect() first\u001b[39m\u001b[39m\"\u001b[39m\n\u001b[1;32m    117\u001b[0m     \u001b[39massert\u001b[39;00m(side \u001b[39min\u001b[39;00m exchange_client\u001b[39m.\u001b[39mALL_SIDES), \u001b[39mf\u001b[39m\u001b[39m\"\u001b[39m\u001b[39mInvalid value (\u001b[39m\u001b[39m{\u001b[39;00mside\u001b[39m}\u001b[39;00m\u001b[39m) for parameter \u001b[39m\u001b[39m'\u001b[39m\u001b[39mside\u001b[39m\u001b[39m'\u001b[39m\u001b[39m. Use synchronous_client.BID or synchronous_client.ASK\u001b[39m\u001b[39m\"\u001b[39m\n\u001b[1;32m    118\u001b[0m     \u001b[39massert\u001b[39;00m order_type \u001b[39min\u001b[39;00m exchange_client\u001b[39m.\u001b[39mALL_ORDER_TYPES, \u001b[39mf\u001b[39m\u001b[39m\"\u001b[39m\u001b[39morder_type must be one of \u001b[39m\u001b[39m{\u001b[39;00mexchange_client\u001b[39m.\u001b[39mALL_ORDER_TYPES\u001b[39m}\u001b[39;00m\u001b[39m\"\u001b[39m\n",
      "\u001b[0;31mAssertionError\u001b[0m: Cannot call function until connected. Call connect() first"
     ]
    }
   ],
   "source": [
    "# Insert ask IOC order - this order trades against any resting volume which has an equal or better price, but does not remain in the \n",
    "# book if any volume is unfilled\n",
    "exchange.insert_order(instrument_id, price=20, volume=5, side='ask', order_type='ioc')"
   ]
  },
  {
   "cell_type": "markdown",
   "id": "456c74c9-f7fa-433f-ab60-8288b452c8fd",
   "metadata": {},
   "source": [
    "### Deleting & amending"
   ]
  },
  {
   "cell_type": "code",
   "execution_count": 17,
   "id": "29dfeebc-4f88-41c6-a07b-b94a997d082c",
   "metadata": {},
   "outputs": [
    {
     "ename": "AssertionError",
     "evalue": "Cannot call function until connected. Call connect() first",
     "output_type": "error",
     "traceback": [
      "\u001b[0;31m---------------------------------------------------------------------------\u001b[0m",
      "\u001b[0;31mAssertionError\u001b[0m                            Traceback (most recent call last)",
      "\u001b[1;32m/home/ubuntu/Manual.ipynb 单元格 27\u001b[0m line \u001b[0;36m2\n\u001b[1;32m      <a href='vscode-notebook-cell://hacktheburgh24-team-012.optibook.net/home/ubuntu/Manual.ipynb#X35sdnNjb2RlLXJlbW90ZQ%3D%3D?line=0'>1</a>\u001b[0m \u001b[39m# Load a list of own outstanding/resting orders\u001b[39;00m\n\u001b[0;32m----> <a href='vscode-notebook-cell://hacktheburgh24-team-012.optibook.net/home/ubuntu/Manual.ipynb#X35sdnNjb2RlLXJlbW90ZQ%3D%3D?line=1'>2</a>\u001b[0m exchange\u001b[39m.\u001b[39;49mget_outstanding_orders(instrument_id)\n",
      "File \u001b[0;32m~/venv/lib/python3.10/site-packages/optibook/synchronous_client.py:277\u001b[0m, in \u001b[0;36mExchange.get_outstanding_orders\u001b[0;34m(self, instrument_id)\u001b[0m\n\u001b[1;32m    262\u001b[0m \u001b[39mdef\u001b[39;00m \u001b[39mget_outstanding_orders\u001b[39m(\u001b[39mself\u001b[39m, instrument_id: \u001b[39mstr\u001b[39m) \u001b[39m-\u001b[39m\u001b[39m>\u001b[39m typing\u001b[39m.\u001b[39mDict[\u001b[39mint\u001b[39m, OrderStatus]:\n\u001b[1;32m    263\u001b[0m \u001b[39m    \u001b[39m\u001b[39m\"\"\"\u001b[39;00m\n\u001b[1;32m    264\u001b[0m \u001b[39m    Returns the client's currently outstanding limit orders on an instrument.\u001b[39;00m\n\u001b[1;32m    265\u001b[0m \n\u001b[0;32m   (...)\u001b[0m\n\u001b[1;32m    275\u001b[0m \u001b[39m        orders on an instrument.\u001b[39;00m\n\u001b[1;32m    276\u001b[0m \u001b[39m    \"\"\"\u001b[39;00m\n\u001b[0;32m--> 277\u001b[0m     \u001b[39massert\u001b[39;00m \u001b[39mself\u001b[39m\u001b[39m.\u001b[39mis_connected(), \u001b[39m\"\u001b[39m\u001b[39mCannot call function until connected. Call connect() first\u001b[39m\u001b[39m\"\u001b[39m\n\u001b[1;32m    278\u001b[0m     \u001b[39mreturn\u001b[39;00m \u001b[39mself\u001b[39m\u001b[39m.\u001b[39m_e\u001b[39m.\u001b[39mget_outstanding_orders(instrument_id)\n",
      "\u001b[0;31mAssertionError\u001b[0m: Cannot call function until connected. Call connect() first"
     ]
    }
   ],
   "source": [
    "# Load a list of own outstanding/resting orders\n",
    "exchange.get_outstanding_orders(instrument_id)"
   ]
  },
  {
   "cell_type": "code",
   "execution_count": 18,
   "id": "da5df034-dc73-42d3-b0ba-c113e8a3f6f7",
   "metadata": {},
   "outputs": [
    {
     "ename": "AssertionError",
     "evalue": "Cannot call function until connected. Call connect() first",
     "output_type": "error",
     "traceback": [
      "\u001b[0;31m---------------------------------------------------------------------------\u001b[0m",
      "\u001b[0;31mAssertionError\u001b[0m                            Traceback (most recent call last)",
      "\u001b[1;32m/home/ubuntu/Manual.ipynb 单元格 28\u001b[0m line \u001b[0;36m2\n\u001b[1;32m      <a href='vscode-notebook-cell://hacktheburgh24-team-012.optibook.net/home/ubuntu/Manual.ipynb#X36sdnNjb2RlLXJlbW90ZQ%3D%3D?line=0'>1</a>\u001b[0m \u001b[39m# Delete an order by order_id, the returned DeleteOrderRequest contains a boolean showing whether the delete was succesful\u001b[39;00m\n\u001b[0;32m----> <a href='vscode-notebook-cell://hacktheburgh24-team-012.optibook.net/home/ubuntu/Manual.ipynb#X36sdnNjb2RlLXJlbW90ZQ%3D%3D?line=1'>2</a>\u001b[0m exchange\u001b[39m.\u001b[39;49mdelete_order(instrument_id, order_id\u001b[39m=\u001b[39;49m\u001b[39m1234\u001b[39;49m)\n",
      "File \u001b[0;32m~/venv/lib/python3.10/site-packages/optibook/synchronous_client.py:166\u001b[0m, in \u001b[0;36mExchange.delete_order\u001b[0;34m(self, instrument_id, order_id)\u001b[0m\n\u001b[1;32m    149\u001b[0m \u001b[39mdef\u001b[39;00m \u001b[39mdelete_order\u001b[39m(\u001b[39mself\u001b[39m, instrument_id: \u001b[39mstr\u001b[39m, \u001b[39m*\u001b[39m, order_id: \u001b[39mint\u001b[39m) \u001b[39m-\u001b[39m\u001b[39m>\u001b[39m DeleteOrderResponse:\n\u001b[1;32m    150\u001b[0m \u001b[39m    \u001b[39m\u001b[39m\"\"\"\u001b[39;00m\n\u001b[1;32m    151\u001b[0m \u001b[39m    Delete a specific outstanding limit order on an instrument.\u001b[39;00m\n\u001b[1;32m    152\u001b[0m \n\u001b[0;32m   (...)\u001b[0m\n\u001b[1;32m    164\u001b[0m \u001b[39m        should the request have failed. See the doc of that type for more info.\u001b[39;00m\n\u001b[1;32m    165\u001b[0m \u001b[39m    \"\"\"\u001b[39;00m\n\u001b[0;32m--> 166\u001b[0m     \u001b[39massert\u001b[39;00m \u001b[39mself\u001b[39m\u001b[39m.\u001b[39mis_connected(), \u001b[39m\"\u001b[39m\u001b[39mCannot call function until connected. Call connect() first\u001b[39m\u001b[39m\"\u001b[39m\n\u001b[1;32m    168\u001b[0m     \u001b[39mreturn\u001b[39;00m \u001b[39mself\u001b[39m\u001b[39m.\u001b[39m_wrapper\u001b[39m.\u001b[39mrun_on_loop(\n\u001b[1;32m    169\u001b[0m         \u001b[39mself\u001b[39m\u001b[39m.\u001b[39m_e\u001b[39m.\u001b[39mdelete_order(instrument_id, order_id)\n\u001b[1;32m    170\u001b[0m     )\n",
      "\u001b[0;31mAssertionError\u001b[0m: Cannot call function until connected. Call connect() first"
     ]
    }
   ],
   "source": [
    "# Delete an order by order_id, the returned DeleteOrderRequest contains a boolean showing whether the delete was succesful\n",
    "exchange.delete_order(instrument_id, order_id=1234)"
   ]
  },
  {
   "cell_type": "code",
   "execution_count": 19,
   "id": "cca548dd-9f1b-4e1b-99c4-04efbd4d289a",
   "metadata": {},
   "outputs": [
    {
     "ename": "AssertionError",
     "evalue": "Cannot call function until connected. Call connect() first",
     "output_type": "error",
     "traceback": [
      "\u001b[0;31m---------------------------------------------------------------------------\u001b[0m",
      "\u001b[0;31mAssertionError\u001b[0m                            Traceback (most recent call last)",
      "\u001b[1;32m/home/ubuntu/Manual.ipynb 单元格 29\u001b[0m line \u001b[0;36m2\n\u001b[1;32m      <a href='vscode-notebook-cell://hacktheburgh24-team-012.optibook.net/home/ubuntu/Manual.ipynb#X40sdnNjb2RlLXJlbW90ZQ%3D%3D?line=0'>1</a>\u001b[0m \u001b[39m# Delete all outstanding orders for an instrument\u001b[39;00m\n\u001b[0;32m----> <a href='vscode-notebook-cell://hacktheburgh24-team-012.optibook.net/home/ubuntu/Manual.ipynb#X40sdnNjb2RlLXJlbW90ZQ%3D%3D?line=1'>2</a>\u001b[0m exchange\u001b[39m.\u001b[39;49mdelete_orders(instrument_id)\n",
      "File \u001b[0;32m~/venv/lib/python3.10/site-packages/optibook/synchronous_client.py:181\u001b[0m, in \u001b[0;36mExchange.delete_orders\u001b[0;34m(self, instrument_id)\u001b[0m\n\u001b[1;32m    172\u001b[0m \u001b[39mdef\u001b[39;00m \u001b[39mdelete_orders\u001b[39m(\u001b[39mself\u001b[39m, instrument_id: \u001b[39mstr\u001b[39m) \u001b[39m-\u001b[39m\u001b[39m>\u001b[39m \u001b[39mNone\u001b[39;00m:\n\u001b[1;32m    173\u001b[0m \u001b[39m    \u001b[39m\u001b[39m\"\"\"\u001b[39;00m\n\u001b[1;32m    174\u001b[0m \u001b[39m    Delete all outstanding orders on an instrument.\u001b[39;00m\n\u001b[1;32m    175\u001b[0m \n\u001b[0;32m   (...)\u001b[0m\n\u001b[1;32m    179\u001b[0m \u001b[39m        The instrument_id of the instrument to delete the orders for.\u001b[39;00m\n\u001b[1;32m    180\u001b[0m \u001b[39m    \"\"\"\u001b[39;00m\n\u001b[0;32m--> 181\u001b[0m     \u001b[39massert\u001b[39;00m \u001b[39mself\u001b[39m\u001b[39m.\u001b[39mis_connected(), \u001b[39m\"\u001b[39m\u001b[39mCannot call function until connected. Call connect() first\u001b[39m\u001b[39m\"\u001b[39m\n\u001b[1;32m    183\u001b[0m     \u001b[39mreturn\u001b[39;00m \u001b[39mself\u001b[39m\u001b[39m.\u001b[39m_wrapper\u001b[39m.\u001b[39mrun_on_loop(\n\u001b[1;32m    184\u001b[0m         \u001b[39mself\u001b[39m\u001b[39m.\u001b[39m_e\u001b[39m.\u001b[39mdelete_orders(instrument_id)\n\u001b[1;32m    185\u001b[0m     )\n",
      "\u001b[0;31mAssertionError\u001b[0m: Cannot call function until connected. Call connect() first"
     ]
    }
   ],
   "source": [
    "# Delete all outstanding orders for an instrument\n",
    "exchange.delete_orders(instrument_id)"
   ]
  },
  {
   "cell_type": "code",
   "execution_count": 20,
   "id": "c2b9a407-ab66-49a2-a389-9a79c9819d25",
   "metadata": {},
   "outputs": [
    {
     "ename": "AssertionError",
     "evalue": "Cannot call function until connected. Call connect() first",
     "output_type": "error",
     "traceback": [
      "\u001b[0;31m---------------------------------------------------------------------------\u001b[0m",
      "\u001b[0;31mAssertionError\u001b[0m                            Traceback (most recent call last)",
      "\u001b[1;32m/home/ubuntu/Manual.ipynb 单元格 30\u001b[0m line \u001b[0;36m2\n\u001b[1;32m      <a href='vscode-notebook-cell://hacktheburgh24-team-012.optibook.net/home/ubuntu/Manual.ipynb#X41sdnNjb2RlLXJlbW90ZQ%3D%3D?line=0'>1</a>\u001b[0m \u001b[39m# Change (amend) the volume of an existing resting order by order_id, the returned AmendOrderResponse contains a boolean showing whether the amend was succesful\u001b[39;00m\n\u001b[0;32m----> <a href='vscode-notebook-cell://hacktheburgh24-team-012.optibook.net/home/ubuntu/Manual.ipynb#X41sdnNjb2RlLXJlbW90ZQ%3D%3D?line=1'>2</a>\u001b[0m exchange\u001b[39m.\u001b[39;49mamend_order(instrument_id, order_id\u001b[39m=\u001b[39;49m\u001b[39m1234\u001b[39;49m, volume\u001b[39m=\u001b[39;49m\u001b[39m30\u001b[39;49m)\n",
      "File \u001b[0;32m~/venv/lib/python3.10/site-packages/optibook/synchronous_client.py:143\u001b[0m, in \u001b[0;36mExchange.amend_order\u001b[0;34m(self, instrument_id, order_id, volume)\u001b[0m\n\u001b[1;32m    124\u001b[0m \u001b[39mdef\u001b[39;00m \u001b[39mamend_order\u001b[39m(\u001b[39mself\u001b[39m, instrument_id: \u001b[39mstr\u001b[39m, \u001b[39m*\u001b[39m, order_id: \u001b[39mint\u001b[39m, volume: \u001b[39mint\u001b[39m) \u001b[39m-\u001b[39m\u001b[39m>\u001b[39m AmendOrderResponse:\n\u001b[1;32m    125\u001b[0m \u001b[39m    \u001b[39m\u001b[39m\"\"\"\u001b[39;00m\n\u001b[1;32m    126\u001b[0m \u001b[39m    Amend a specific outstanding limit order on an instrument. E.g. to change its volume.\u001b[39;00m\n\u001b[1;32m    127\u001b[0m \n\u001b[0;32m   (...)\u001b[0m\n\u001b[1;32m    141\u001b[0m \u001b[39m        should the request have failed. See the doc of that type for more info.\u001b[39;00m\n\u001b[1;32m    142\u001b[0m \u001b[39m    \"\"\"\u001b[39;00m\n\u001b[0;32m--> 143\u001b[0m     \u001b[39massert\u001b[39;00m \u001b[39mself\u001b[39m\u001b[39m.\u001b[39mis_connected(), \u001b[39m\"\u001b[39m\u001b[39mCannot call function until connected. Call connect() first\u001b[39m\u001b[39m\"\u001b[39m\n\u001b[1;32m    145\u001b[0m     \u001b[39mreturn\u001b[39;00m \u001b[39mself\u001b[39m\u001b[39m.\u001b[39m_wrapper\u001b[39m.\u001b[39mrun_on_loop(\n\u001b[1;32m    146\u001b[0m         \u001b[39mself\u001b[39m\u001b[39m.\u001b[39m_e\u001b[39m.\u001b[39mamend_order(instrument_id, order_id, volume)\n\u001b[1;32m    147\u001b[0m     )\n",
      "\u001b[0;31mAssertionError\u001b[0m: Cannot call function until connected. Call connect() first"
     ]
    }
   ],
   "source": [
    "# Change (amend) the volume of an existing resting order by order_id, the returned AmendOrderResponse contains a boolean showing whether the amend was succesful\n",
    "exchange.amend_order(instrument_id, order_id=1234, volume=30)"
   ]
  },
  {
   "cell_type": "markdown",
   "id": "ddebfb30-9fae-4ca8-9834-500558435dfb",
   "metadata": {},
   "source": [
    "# Code Snippets"
   ]
  },
  {
   "cell_type": "markdown",
   "id": "f42a856e-6bff-40a7-ba1f-9596cff5914f",
   "metadata": {},
   "source": [
    "Combining a few of the exchange interactions above, we can write a code snippet to aggressively trade out of all currently held positions using IOC orders. \n",
    "\n",
    "That means selling all products you are long, and buying back all you are short. \n",
    "\n",
    "This is useful for starting with a clean slate, but doing so will come at a potentially large cost. \n",
    "\n",
    "You are not guaranteed to end up with a zero position afterwards, only that volume which is also available to trade in the market will be bought/sold."
   ]
  },
  {
   "cell_type": "code",
   "execution_count": 21,
   "id": "556b6ad0-c62a-4324-9638-b9357676fecf",
   "metadata": {},
   "outputs": [
    {
     "ename": "AssertionError",
     "evalue": "Cannot call function until connected. Call connect() first",
     "output_type": "error",
     "traceback": [
      "\u001b[0;31m---------------------------------------------------------------------------\u001b[0m",
      "\u001b[0;31mAssertionError\u001b[0m                            Traceback (most recent call last)",
      "\u001b[1;32m/home/ubuntu/Manual.ipynb 单元格 33\u001b[0m line \u001b[0;36m4\n\u001b[1;32m      <a href='vscode-notebook-cell://hacktheburgh24-team-012.optibook.net/home/ubuntu/Manual.ipynb#X44sdnNjb2RlLXJlbW90ZQ%3D%3D?line=0'>1</a>\u001b[0m MIN_SELLING_PRICE \u001b[39m=\u001b[39m \u001b[39m0.10\u001b[39m\n\u001b[1;32m      <a href='vscode-notebook-cell://hacktheburgh24-team-012.optibook.net/home/ubuntu/Manual.ipynb#X44sdnNjb2RlLXJlbW90ZQ%3D%3D?line=1'>2</a>\u001b[0m MAX_BUYING_PRICE \u001b[39m=\u001b[39m \u001b[39m100000.00\u001b[39m\n\u001b[0;32m----> <a href='vscode-notebook-cell://hacktheburgh24-team-012.optibook.net/home/ubuntu/Manual.ipynb#X44sdnNjb2RlLXJlbW90ZQ%3D%3D?line=3'>4</a>\u001b[0m positions \u001b[39m=\u001b[39m exchange\u001b[39m.\u001b[39;49mget_positions()\n\u001b[1;32m      <a href='vscode-notebook-cell://hacktheburgh24-team-012.optibook.net/home/ubuntu/Manual.ipynb#X44sdnNjb2RlLXJlbW90ZQ%3D%3D?line=4'>5</a>\u001b[0m pnl \u001b[39m=\u001b[39m exchange\u001b[39m.\u001b[39mget_pnl()\n\u001b[1;32m      <a href='vscode-notebook-cell://hacktheburgh24-team-012.optibook.net/home/ubuntu/Manual.ipynb#X44sdnNjb2RlLXJlbW90ZQ%3D%3D?line=6'>7</a>\u001b[0m \u001b[39mprint\u001b[39m(\u001b[39mf\u001b[39m\u001b[39m'\u001b[39m\u001b[39mPositions before: \u001b[39m\u001b[39m{\u001b[39;00mpositions\u001b[39m}\u001b[39;00m\u001b[39m'\u001b[39m)\n",
      "File \u001b[0;32m~/venv/lib/python3.10/site-packages/optibook/synchronous_client.py:307\u001b[0m, in \u001b[0;36mExchange.get_positions\u001b[0;34m(self)\u001b[0m\n\u001b[1;32m    297\u001b[0m \u001b[39mdef\u001b[39;00m \u001b[39mget_positions\u001b[39m(\u001b[39mself\u001b[39m) \u001b[39m-\u001b[39m\u001b[39m>\u001b[39m typing\u001b[39m.\u001b[39mDict[\u001b[39mstr\u001b[39m, \u001b[39mint\u001b[39m]:\n\u001b[1;32m    298\u001b[0m \u001b[39m    \u001b[39m\u001b[39m\"\"\"\u001b[39;00m\n\u001b[1;32m    299\u001b[0m \u001b[39m    Get your current positions.\u001b[39;00m\n\u001b[1;32m    300\u001b[0m \n\u001b[0;32m   (...)\u001b[0m\n\u001b[1;32m    305\u001b[0m \u001b[39m        amount of lots held.\u001b[39;00m\n\u001b[1;32m    306\u001b[0m \u001b[39m    \"\"\"\u001b[39;00m\n\u001b[0;32m--> 307\u001b[0m     \u001b[39massert\u001b[39;00m \u001b[39mself\u001b[39m\u001b[39m.\u001b[39mis_connected(), \u001b[39m\"\u001b[39m\u001b[39mCannot call function until connected. Call connect() first\u001b[39m\u001b[39m\"\u001b[39m\n\u001b[1;32m    308\u001b[0m     \u001b[39mreturn\u001b[39;00m \u001b[39mself\u001b[39m\u001b[39m.\u001b[39m_e\u001b[39m.\u001b[39mget_positions()\n",
      "\u001b[0;31mAssertionError\u001b[0m: Cannot call function until connected. Call connect() first"
     ]
    }
   ],
   "source": [
    "MIN_SELLING_PRICE = 0.10\n",
    "MAX_BUYING_PRICE = 100000.00\n",
    "\n",
    "positions = exchange.get_positions()\n",
    "pnl = exchange.get_pnl()\n",
    "\n",
    "print(f'Positions before: {positions}')\n",
    "print(f'\\nPnL before: {pnl:.2f}')\n",
    "\n",
    "print(f'\\nTrading out of positions')\n",
    "for iid, pos in positions.items():\n",
    "    if pos > 0:\n",
    "        print(f'-- Inserting sell order for {pos} lots of {iid}, with limit price {MIN_SELLING_PRICE:.2f}')\n",
    "        exchange.insert_order(iid, price=MIN_SELLING_PRICE, volume=pos, side='ask', order_type='ioc')\n",
    "    elif pos < 0:\n",
    "        print(f'-- Inserting buy order for {abs(pos)} lots of {iid}, with limit price {MAX_BUYING_PRICE:.2f}')\n",
    "        exchange.insert_order(iid, price=MAX_BUYING_PRICE, volume=-pos, side='bid', order_type='ioc')\n",
    "    else:\n",
    "        print(f'-- No initial position in {iid}, skipping..')\n",
    "    \n",
    "    time.sleep(0.10)\n",
    "\n",
    "time.sleep(1.0)\n",
    "\n",
    "positions = exchange.get_positions()\n",
    "pnl = exchange.get_pnl()\n",
    "print(f'\\nPositions after: {positions}')\n",
    "print(f'\\nPnL after: {pnl:.2f}')"
   ]
  },
  {
   "cell_type": "code",
   "execution_count": null,
   "id": "2a98c3de-c0e3-4a43-adf6-9879ce22b50a",
   "metadata": {},
   "outputs": [],
   "source": []
  },
  {
   "cell_type": "code",
   "execution_count": null,
   "id": "742f81db",
   "metadata": {},
   "outputs": [],
   "source": []
  },
  {
   "cell_type": "code",
   "execution_count": null,
   "id": "3d0df158",
   "metadata": {},
   "outputs": [],
   "source": []
  },
  {
   "cell_type": "code",
   "execution_count": null,
   "id": "e6c2cef3",
   "metadata": {},
   "outputs": [],
   "source": []
  }
 ],
 "metadata": {
  "kernelspec": {
   "display_name": "Python 3",
   "language": "python",
   "name": "python3"
  },
  "language_info": {
   "codemirror_mode": {
    "name": "ipython",
    "version": 3
   },
   "file_extension": ".py",
   "mimetype": "text/x-python",
   "name": "python",
   "nbconvert_exporter": "python",
   "pygments_lexer": "ipython3",
   "version": "3.10.12"
  }
 },
 "nbformat": 4,
 "nbformat_minor": 5
}
