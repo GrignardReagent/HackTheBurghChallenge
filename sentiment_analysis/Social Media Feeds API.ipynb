{
 "cells": [
  {
   "cell_type": "code",
   "execution_count": 7,
   "id": "69a933d1-f65e-414a-9a4b-5f803d1d11e6",
   "metadata": {},
   "outputs": [],
   "source": [
    "import datetime as dt\n",
    "import time\n",
    "import logging\n",
    "\n",
    "from optibook.synchronous_client import Exchange\n",
    "from optibook.common_types import SocialMediaFeed\n",
    "logging.getLogger('client').setLevel('ERROR')    "
   ]
  },
  {
   "cell_type": "code",
   "execution_count": 8,
   "id": "74e071e1-bf72-4cee-8d59-a01212bceb0f",
   "metadata": {},
   "outputs": [
    {
     "name": "stderr",
     "output_type": "stream",
     "text": [
      "2024-03-02 16:21:16,647 [asyncio   ] [MainThread  ] Using selector: EpollSelector\n"
     ]
    }
   ],
   "source": [
    "exchange = Exchange()\n",
    "exchange.connect()"
   ]
  },
  {
   "cell_type": "code",
   "execution_count": 9,
   "id": "eaaf4b90-89c0-465d-a1ad-9fae4a1fbaab",
   "metadata": {},
   "outputs": [
    {
     "name": "stdout",
     "output_type": "stream",
     "text": [
      "Help on method poll_new_social_media_feeds in module optibook.synchronous_client:\n",
      "\n",
      "poll_new_social_media_feeds() -> List[optibook.common_types.SocialMediaFeed] method of optibook.synchronous_client.Exchange instance\n",
      "    Returns the new social media feeds, posted since the last time this function was called.\n",
      "    For admin clients, the feed contains the post and metadata\n",
      "    \n",
      "    Returns\n",
      "    -------\n",
      "        Returns a list with the feeds\n",
      "\n"
     ]
    }
   ],
   "source": [
    "help(exchange.poll_new_social_media_feeds)"
   ]
  },
  {
   "cell_type": "code",
   "execution_count": 10,
   "id": "be20c022-7dfa-415a-b17f-c2ac76cf4cf6",
   "metadata": {},
   "outputs": [
    {
     "name": "stdout",
     "output_type": "stream",
     "text": [
      "Help on method get_social_media_feeds_history in module optibook.synchronous_client:\n",
      "\n",
      "get_social_media_feeds_history() -> List[optibook.common_types.SocialMediaFeed] method of optibook.synchronous_client.Exchange instance\n",
      "    Returns the new social media feeds since connection (up to a max cap)\n",
      "    \n",
      "    Returns\n",
      "    -------\n",
      "        Returns a list with the feeds\n",
      "\n"
     ]
    }
   ],
   "source": [
    "help(exchange.get_social_media_feeds_history)"
   ]
  },
  {
   "cell_type": "code",
   "execution_count": 11,
   "id": "297c9188-3cae-4e39-b8dd-460609330b63",
   "metadata": {},
   "outputs": [
    {
     "name": "stdout",
     "output_type": "stream",
     "text": [
      "Help on class SocialMediaFeed in module optibook.common_types:\n",
      "\n",
      "class SocialMediaFeed(builtins.object)\n",
      " |  SocialMediaFeed(*, timestamp=None, post=None, meta_data=None)\n",
      " |  \n",
      " |  Methods defined here:\n",
      " |  \n",
      " |  __init__(self, *, timestamp=None, post=None, meta_data=None)\n",
      " |      Initialize self.  See help(type(self)) for accurate signature.\n",
      " |  \n",
      " |  __repr__(self)\n",
      " |      Return repr(self).\n",
      " |  \n",
      " |  ----------------------------------------------------------------------\n",
      " |  Data descriptors defined here:\n",
      " |  \n",
      " |  __dict__\n",
      " |      dictionary for instance variables (if defined)\n",
      " |  \n",
      " |  __weakref__\n",
      " |      list of weak references to the object (if defined)\n",
      "\n"
     ]
    }
   ],
   "source": [
    "help(SocialMediaFeed)"
   ]
  },
  {
   "cell_type": "code",
   "execution_count": 12,
   "id": "46df9371-ec0f-45fb-b2b8-9eb31bb2e3e8",
   "metadata": {},
   "outputs": [
    {
     "name": "stdout",
     "output_type": "stream",
     "text": [
      "2024-03-02 16:21:16.995060: no new messages\n"
     ]
    },
    {
     "name": "stdout",
     "output_type": "stream",
     "text": [
      "2024-03-02 16:21:20.000040: no new messages\n",
      "2024-03-02 16:21:23.003256: no new messages\n",
      "2024-03-02 16:21:26.006464: no new messages\n",
      "2024-03-02 16:21:26.111295: @RumorReel: Unverified reports of Walmart planning a major acquisition circulate. #AcquisitionRumors #Retail\n",
      "2024-03-02 16:21:32.011275: no new messages\n"
     ]
    },
    {
     "name": "stderr",
     "output_type": "stream",
     "text": [
      "2024-03-02 16:21:34,751 [client    ] [Thread-5 (_thread_entry_point)] Forcing a disconnect due to an error: Closing connection because someone else logged in with the same credentials. Only one session may be active at the same time.\n"
     ]
    },
    {
     "ename": "AssertionError",
     "evalue": "Cannot call function until connected. Call connect() first",
     "output_type": "error",
     "traceback": [
      "\u001b[0;31m---------------------------------------------------------------------------\u001b[0m",
      "\u001b[0;31mAssertionError\u001b[0m                            Traceback (most recent call last)",
      "Cell \u001b[0;32mIn[12], line 2\u001b[0m\n\u001b[1;32m      1\u001b[0m \u001b[38;5;28;01mwhile\u001b[39;00m \u001b[38;5;28;01mTrue\u001b[39;00m:\n\u001b[0;32m----> 2\u001b[0m     social_feeds \u001b[38;5;241m=\u001b[39m \u001b[43mexchange\u001b[49m\u001b[38;5;241;43m.\u001b[39;49m\u001b[43mpoll_new_social_media_feeds\u001b[49m\u001b[43m(\u001b[49m\u001b[43m)\u001b[49m\n\u001b[1;32m      4\u001b[0m     \u001b[38;5;28;01mif\u001b[39;00m \u001b[38;5;129;01mnot\u001b[39;00m social_feeds:\n\u001b[1;32m      5\u001b[0m         \u001b[38;5;28mprint\u001b[39m(\u001b[38;5;124mf\u001b[39m\u001b[38;5;124m'\u001b[39m\u001b[38;5;132;01m{\u001b[39;00mdt\u001b[38;5;241m.\u001b[39mdatetime\u001b[38;5;241m.\u001b[39mnow()\u001b[38;5;132;01m}\u001b[39;00m\u001b[38;5;124m: no new messages\u001b[39m\u001b[38;5;124m'\u001b[39m)\n",
      "File \u001b[0;32m~/venv/lib/python3.10/site-packages/optibook/synchronous_client.py:401\u001b[0m, in \u001b[0;36mExchange.poll_new_social_media_feeds\u001b[0;34m(self)\u001b[0m\n\u001b[1;32m    392\u001b[0m \u001b[38;5;28;01mdef\u001b[39;00m \u001b[38;5;21mpoll_new_social_media_feeds\u001b[39m(\u001b[38;5;28mself\u001b[39m) \u001b[38;5;241m-\u001b[39m\u001b[38;5;241m>\u001b[39m typing\u001b[38;5;241m.\u001b[39mList[SocialMediaFeed]:\n\u001b[1;32m    393\u001b[0m \u001b[38;5;250m    \u001b[39m\u001b[38;5;124;03m\"\"\"\u001b[39;00m\n\u001b[1;32m    394\u001b[0m \u001b[38;5;124;03m    Returns the new social media feeds, posted since the last time this function was called.\u001b[39;00m\n\u001b[1;32m    395\u001b[0m \u001b[38;5;124;03m    For admin clients, the feed contains the post and metadata\u001b[39;00m\n\u001b[0;32m   (...)\u001b[0m\n\u001b[1;32m    399\u001b[0m \u001b[38;5;124;03m        Returns a list with the feeds\u001b[39;00m\n\u001b[1;32m    400\u001b[0m \u001b[38;5;124;03m    \"\"\"\u001b[39;00m\n\u001b[0;32m--> 401\u001b[0m     \u001b[38;5;28;01massert\u001b[39;00m \u001b[38;5;28mself\u001b[39m\u001b[38;5;241m.\u001b[39mis_connected(), \u001b[38;5;124m\"\u001b[39m\u001b[38;5;124mCannot call function until connected. Call connect() first\u001b[39m\u001b[38;5;124m\"\u001b[39m\n\u001b[1;32m    402\u001b[0m     \u001b[38;5;28;01mreturn\u001b[39;00m \u001b[38;5;28mself\u001b[39m\u001b[38;5;241m.\u001b[39m_i\u001b[38;5;241m.\u001b[39mpoll_new_social_media_feeds()\n",
      "\u001b[0;31mAssertionError\u001b[0m: Cannot call function until connected. Call connect() first"
     ]
    }
   ],
   "source": [
    "while True:\n",
    "    social_feeds = exchange.poll_new_social_media_feeds()\n",
    "    \n",
    "    if not social_feeds:\n",
    "        print(f'{dt.datetime.now()}: no new messages')\n",
    "    else:\n",
    "        for feed in social_feeds:\n",
    "            print(f'{feed.timestamp}: {feed.post}')\n",
    "            \n",
    "    time.sleep(3)"
   ]
  },
  {
   "cell_type": "code",
   "execution_count": null,
   "id": "b8ebd934",
   "metadata": {},
   "outputs": [],
   "source": []
  }
 ],
 "metadata": {
  "kernelspec": {
   "display_name": "Python 3",
   "language": "python",
   "name": "python3"
  },
  "language_info": {
   "codemirror_mode": {
    "name": "ipython",
    "version": 3
   },
   "file_extension": ".py",
   "mimetype": "text/x-python",
   "name": "python",
   "nbconvert_exporter": "python",
   "pygments_lexer": "ipython3",
   "version": "3.10.12"
  }
 },
 "nbformat": 4,
 "nbformat_minor": 5
}
