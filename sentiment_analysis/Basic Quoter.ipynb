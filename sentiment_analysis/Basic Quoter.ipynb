{
 "cells": [
  {
   "cell_type": "markdown",
   "id": "5f8cb991-b82b-40c0-98e1-00d23f269ebf",
   "metadata": {},
   "source": [
    "# Imports & Setup"
   ]
  },
  {
   "cell_type": "code",
   "execution_count": 1,
   "id": "5aa9c918-0e4d-479f-8844-4561993923bd",
   "metadata": {},
   "outputs": [
    {
     "name": "stderr",
     "output_type": "stream",
     "text": [
      "kj/filesystem-disk-unix.c++:1734: warning: PWD environment variable doesn't match current directory; pwd = /\n"
     ]
    }
   ],
   "source": [
    "import datetime as dt\n",
    "import time\n",
    "import random\n",
    "import logging\n",
    "\n",
    "from optibook.synchronous_client import Exchange\n",
    "from libs import print_positions_and_pnl, round_down_to_tick, round_up_to_tick\n",
    "\n",
    "from IPython.display import clear_output\n",
    "\n",
    "logging.getLogger('client').setLevel('ERROR')    "
   ]
  },
  {
   "cell_type": "markdown",
   "id": "46d6720f-be57-4e67-a95a-9b6458feda69",
   "metadata": {},
   "source": [
    "# Function definitions"
   ]
  },
  {
   "cell_type": "code",
   "execution_count": 2,
   "id": "b5b95598-04a6-483a-aca8-747daee029f9",
   "metadata": {},
   "outputs": [],
   "source": [
    "def insert_quotes(exchange, instrument, bid_price, ask_price, bid_volume, ask_volume):\n",
    "    if bid_volume > 0:\n",
    "        # Insert new bid limit order on the market\n",
    "        exchange.insert_order(\n",
    "            instrument_id=instrument.instrument_id,\n",
    "            price=bid_price,\n",
    "            volume=bid_volume,\n",
    "            side='bid',\n",
    "            order_type='limit',\n",
    "        )\n",
    "        \n",
    "        # Wait for some time to avoid breaching the exchange frequency limit\n",
    "        time.sleep(0.05)\n",
    "\n",
    "    if ask_volume > 0:\n",
    "        # Insert new ask limit order on the market\n",
    "        exchange.insert_order(\n",
    "            instrument_id=instrument.instrument_id,\n",
    "            price=ask_price,\n",
    "            volume=ask_volume,\n",
    "            side='ask',\n",
    "            order_type='limit',\n",
    "        )\n",
    "\n",
    "        # Wait for some time to avoid breaching the exchange frequency limit\n",
    "        time.sleep(0.05)"
   ]
  },
  {
   "cell_type": "markdown",
   "id": "05149b7e-70af-4e87-ac46-f396aa18bfe6",
   "metadata": {},
   "source": [
    "# Main algorithm"
   ]
  },
  {
   "cell_type": "code",
   "execution_count": 3,
   "id": "a6119903-45f3-4f9e-847f-4340b33be0bf",
   "metadata": {},
   "outputs": [
    {
     "name": "stdout",
     "output_type": "stream",
     "text": [
      "\n",
      "-----------------------------------------------------------------\n",
      "TRADE LOOP ITERATION ENTERED AT 2024-03-02 17:21:05.780946 UTC.\n",
      "-----------------------------------------------------------------\n",
      "Positions:\n",
      "  NVDA      :    0\n",
      "  ING       :  -10\n",
      "  SAN       :   10\n",
      "  PFE       :    0\n",
      "  CSCO      :    0\n",
      "\n",
      "PnL: 2077.00\n",
      "\n",
      "          (ourbid) mktbid :: mktask (ourask)\n",
      "  CSCO -- ( 42.90)  42.90 ::  43.20 ( 43.20)\n",
      "   PFE -- (103.30) 103.40 :: 103.60 (103.70)\n",
      "   SAN -- ( 41.60)  41.60 ::  42.00 ( 41.90)\n",
      "   ING -- ( 43.20)  43.30 ::  43.40 ( 43.60)\n",
      "  NVDA -- ( 47.80)  47.80 ::  48.20 ( 48.20)\n",
      "\n",
      "Waiting for 2 seconds.\n"
     ]
    },
    {
     "ename": "KeyboardInterrupt",
     "evalue": "",
     "output_type": "error",
     "traceback": [
      "\u001b[0;31m---------------------------------------------------------------------------\u001b[0m",
      "\u001b[0;31mKeyboardInterrupt\u001b[0m                         Traceback (most recent call last)",
      "Cell \u001b[0;32mIn[3], line 63\u001b[0m\n\u001b[1;32m     61\u001b[0m \u001b[38;5;66;03m# Wait for a few seconds to refresh the quotes\u001b[39;00m\n\u001b[1;32m     62\u001b[0m \u001b[38;5;28mprint\u001b[39m(\u001b[38;5;124mf\u001b[39m\u001b[38;5;124m'\u001b[39m\u001b[38;5;130;01m\\n\u001b[39;00m\u001b[38;5;124mWaiting for 2 seconds.\u001b[39m\u001b[38;5;124m'\u001b[39m)\n\u001b[0;32m---> 63\u001b[0m \u001b[43mtime\u001b[49m\u001b[38;5;241;43m.\u001b[39;49m\u001b[43msleep\u001b[49m\u001b[43m(\u001b[49m\u001b[38;5;241;43m2\u001b[39;49m\u001b[43m)\u001b[49m\n\u001b[1;32m     65\u001b[0m \u001b[38;5;66;03m# Clear the displayed information after waiting\u001b[39;00m\n\u001b[1;32m     66\u001b[0m clear_output(wait\u001b[38;5;241m=\u001b[39m\u001b[38;5;28;01mTrue\u001b[39;00m)\n",
      "\u001b[0;31mKeyboardInterrupt\u001b[0m: "
     ]
    }
   ],
   "source": [
    "exchange = Exchange()\n",
    "exchange.connect()\n",
    "\n",
    "INSTRUMENTS = exchange.get_instruments()\n",
    "\n",
    "QUOTED_VOLUME = 10\n",
    "FIXED_MINIMUM_CREDIT = 0.15\n",
    "PRICE_RETREAT_PER_LOT = 0.005\n",
    "POSITION_LIMIT = 100\n",
    "\n",
    "while True:\n",
    "    print(f'')\n",
    "    print(f'-----------------------------------------------------------------')\n",
    "    print(f'TRADE LOOP ITERATION ENTERED AT {str(dt.datetime.now()):18s} UTC.')\n",
    "    print(f'-----------------------------------------------------------------')\n",
    "\n",
    "    # Display our own current positions in all stocks, and our PnL so far\n",
    "    print_positions_and_pnl(exchange)\n",
    "    print(f'')\n",
    "    print(f'          (ourbid) mktbid :: mktask (ourask)')\n",
    "    \n",
    "    for instrument in INSTRUMENTS.values():\n",
    "        # Remove all existing (still) outstanding limit orders\n",
    "        exchange.delete_orders(instrument.instrument_id)\n",
    "    \n",
    "        # Obtain order book and only skip this instrument if there are no bids or offers available at all on that instrument,\n",
    "        # as we we want to use the mid price to determine our own quoted price\n",
    "        instrument_order_book = exchange.get_last_price_book(instrument.instrument_id)\n",
    "        if not (instrument_order_book and instrument_order_book.bids and instrument_order_book.asks):\n",
    "            print(f'{instrument.instrument_id:>6s} --     INCOMPLETE ORDER BOOK')\n",
    "            continue\n",
    "    \n",
    "        # Obtain own current position in instrument\n",
    "        position = exchange.get_positions()[instrument.instrument_id]\n",
    "\n",
    "        # Obtain best bid and ask prices from order book to determine mid price\n",
    "        best_bid_price = instrument_order_book.bids[0].price\n",
    "        best_ask_price = instrument_order_book.asks[0].price\n",
    "        mid_price = (best_bid_price + best_ask_price) / 2.0 \n",
    "        \n",
    "        # Calculate our fair/theoretical price based on the market mid price and our current position\n",
    "        theoretical_price = mid_price - PRICE_RETREAT_PER_LOT * position\n",
    "\n",
    "        # Calculate final bid and ask prices to insert\n",
    "        bid_price = round_down_to_tick(theoretical_price - FIXED_MINIMUM_CREDIT, instrument.tick_size)\n",
    "        ask_price = round_up_to_tick(theoretical_price + FIXED_MINIMUM_CREDIT, instrument.tick_size)\n",
    "        \n",
    "        # Calculate bid and ask volumes to insert, taking into account the exchange position_limit\n",
    "        max_volume_to_buy = POSITION_LIMIT - position\n",
    "        max_volume_to_sell = POSITION_LIMIT + position\n",
    "\n",
    "        bid_volume = min(QUOTED_VOLUME, max_volume_to_buy)\n",
    "        ask_volume = min(QUOTED_VOLUME, max_volume_to_sell)\n",
    "\n",
    "        # Display information for tracking the algorithm's actions\n",
    "        print(f'{instrument.instrument_id:>6s} -- ({bid_price:>6.2f}) {best_bid_price:>6.2f} :: {best_ask_price:>6.2f} ({ask_price:>6.2f})')\n",
    "        \n",
    "        # Insert new quotes\n",
    "        insert_quotes(exchange, instrument, bid_price, ask_price, bid_volume, ask_volume)\n",
    "        \n",
    "    # Wait for a few seconds to refresh the quotes\n",
    "    print(f'\\nWaiting for 2 seconds.')\n",
    "    time.sleep(2)\n",
    "    \n",
    "    # Clear the displayed information after waiting\n",
    "    clear_output(wait=True)"
   ]
  },
  {
   "cell_type": "code",
   "execution_count": null,
   "id": "39e8d108-6c6e-412f-8fac-317d8346280c",
   "metadata": {},
   "outputs": [],
   "source": []
  }
 ],
 "metadata": {
  "kernelspec": {
   "display_name": "Python 3",
   "language": "python",
   "name": "python3"
  },
  "language_info": {
   "codemirror_mode": {
    "name": "ipython",
    "version": 3
   },
   "file_extension": ".py",
   "mimetype": "text/x-python",
   "name": "python",
   "nbconvert_exporter": "python",
   "pygments_lexer": "ipython3",
   "version": "3.10.12"
  }
 },
 "nbformat": 4,
 "nbformat_minor": 5
}
